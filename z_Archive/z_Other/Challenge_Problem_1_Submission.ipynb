{
 "cells": [
  {
   "cell_type": "markdown",
   "id": "2662f163",
   "metadata": {},
   "source": [
    "\n",
    "# Challenge Problem 1 — 2.156 Artificial Intelligence and Machine Learning for Engineering Design (MIT, Fall 2025)\n",
    "\n",
    "This notebook assembles and organizes the provided **Starter** and **Advanced** notebooks for linkage synthesis into a single workflow that:\n",
    "- Sets up the environment and loads target curves\n",
    "- Defines the mixed‑variable GA problem that searches over **structure + geometry**\n",
    "- Seeds GA with random mechanisms\n",
    "- Runs NSGA‑II\n",
    "- Demonstrates gradient tools\n",
    "- Visualizes and saves results\n",
    "\n",
    "All code blocks below are taken from the course-provided notebooks and kept intact, only arranged for a coherent end‑to‑end run.\n"
   ]
  },
  {
   "cell_type": "markdown",
   "id": "11c3526a",
   "metadata": {},
   "source": [
    "## 1) Setup\n",
    "### 1.a Environment Setup (Advanced — Cell 0)"
   ]
  },
  {
   "cell_type": "code",
   "execution_count": null,
   "id": "b1caf8fc",
   "metadata": {},
   "outputs": [],
   "source": [
    "\n",
    "import os\n",
    "os.environ[\"JAX_PLATFORMS\"] = \"cpu\"  # Disable GPU for JAX (Remove if you want to use GPU)\n",
    "\n",
    "import numpy as np\n",
    "import matplotlib.pyplot as plt\n",
    "import random\n",
    "from tqdm.auto import tqdm, trange\n",
    "\n",
    "# deteministic random numbers\n",
    "np.random.seed(0)\n",
    "random.seed(0)\n"
   ]
  },
  {
   "cell_type": "markdown",
   "id": "aa2fb9b0",
   "metadata": {},
   "source": [
    "### 1.b Load Target Curves (Advanced — Cell 2)"
   ]
  },
  {
   "cell_type": "code",
   "execution_count": null,
   "id": "b8690c98",
   "metadata": {},
   "outputs": [],
   "source": [
    "\n",
    "target_curves = np.load('target_curves.npy')\n",
    "\n",
    "# Plot all target curves\n",
    "\n",
    "# Initialize a 2x3 subplot for plotting all target curves\n",
    "fig, axs = plt.subplots(2, 3, figsize=(8, 5))\n",
    "\n",
    "# Loop through the 6 target curves to plot them\n",
    "for i in range(6):\n",
    "    # Extract x and y coordinates from the target curve\n",
    "    x_coords = np.array(target_curves[i])[:, 0]\n",
    "    y_coords = np.array(target_curves[i])[:, 1]\n",
    "\n",
    "    # Plot the curve on the respective subplot\n",
    "    axs[i // 3, i % 3].plot(x_coords, y_coords, color='black', linewidth=3)\n",
    "\n",
    "    # Set title for each subplot\n",
    "    axs[i // 3, i % 3].set_title(f'Egg {i + 1}')\n",
    "\n",
    "    # Ensure equal scaling for x and y axes\n",
    "    axs[i // 3, i % 3].axis('equal')\n",
    "    axs[i // 3, i % 3].axis('off')\n"
   ]
  },
  {
   "cell_type": "markdown",
   "id": "61856062",
   "metadata": {},
   "source": [
    "### 1.c GA & Tools Imports (Advanced — Cell 4)"
   ]
  },
  {
   "cell_type": "code",
   "execution_count": null,
   "id": "1bbdfa72",
   "metadata": {},
   "outputs": [],
   "source": [
    "\n",
    "from pymoo.core.problem import ElementwiseProblem\n",
    "from pymoo.algorithms.moo.nsga2 import NSGA2\n",
    "from pymoo.core.variable import Real, Integer, Choice, Binary\n",
    "from pymoo.core.mixed import MixedVariableMating, MixedVariableGA, MixedVariableSampling, MixedVariableDuplicateElimination\n",
    "from pymoo.algorithms.moo.nsga2 import NSGA2\n",
    "from pymoo.operators.sampling.rnd import FloatRandomSampling, Sampling\n",
    "from pymoo.operators.crossover.sbx import SBX\n",
    "from pymoo.operators.mutation.pm import PolynomialMutation\n",
    "from pymoo.optimize import minimize\n",
    "\n",
    "from LINKS.Optimization import DifferentiableTools, Tools\n"
   ]
  },
  {
   "cell_type": "markdown",
   "id": "3b7c7c9b",
   "metadata": {},
   "source": [
    "### 1.d Compile Optimization Tools (Advanced — Cell 5)"
   ]
  },
  {
   "cell_type": "code",
   "execution_count": null,
   "id": "4a71a618",
   "metadata": {},
   "outputs": [],
   "source": [
    "\n",
    "PROBLEM_TOOLS = Tools( # we have to define this outside the class due to pymoo deepcopy limitations\n",
    "            device='cpu' # device to run the optimization on\n",
    "        )  \n",
    "PROBLEM_TOOLS.compile() # compile the functions for faster runs\n"
   ]
  },
  {
   "cell_type": "markdown",
   "id": "cad5991b",
   "metadata": {},
   "source": [
    "### 1.e Mixed‑Variable Problem Definition (Advanced — Cell 5)"
   ]
  },
  {
   "cell_type": "code",
   "execution_count": null,
   "id": "45d2be7a",
   "metadata": {},
   "outputs": [],
   "source": [
    "\n",
    "class mechanism_synthesis_optimization(ElementwiseProblem):\n",
    "\n",
    "    # When intializing, set the mechanism size and target curve\n",
    "    def __init__(self, target_curve, N = 5):\n",
    "        self.N = N\n",
    "        variables = dict()\n",
    "\n",
    "        # The upper triangular portion of our NxN Connectivity Matrix consists of Nx(N-1)/2 boolean variables:\n",
    "        for i in range(N):\n",
    "            for j in range(i):\n",
    "                variables[\"C\" + str(j) + \"_\" + str(i)] = Binary()\n",
    "\n",
    "        # We Delete C0_1 since we know node 1 is connected to the motor\n",
    "        del variables[\"C0_1\"]\n",
    "\n",
    "        #Our position matrix consists of Nx2 real numbers (cartesian coordinate values) between 0 and 1\n",
    "        for i in range(2*N):\n",
    "            variables[\"X0\" + str(i)] = Real(bounds=(0.0, 1.0))\n",
    "\n",
    "        # Our node type vector consists of N boolean variables (fixed vs non-fixed)\n",
    "        for i in range(N):\n",
    "            variables[\"fixed_nodes\" + str(i)] =  Binary(N)\n",
    "\n",
    "        # Our target node is an integer between 1 and N-1, (any except the motor node).\n",
    "        variables[\"target\"] = Integer(bounds=(1,N-1))\n",
    "\n",
    "        # Set up some variables in the problem class we inherit for pymoo\n",
    "        # n_obj=number of objectives, n_constr=number of constraints\n",
    "        # Our objectives are chamfer distance and material, and they both have constraints.\n",
    "        super().__init__(vars=variables, n_obj=2, n_constr=2)\n",
    "\n",
    "        # Store the target curve point cloud\n",
    "        self.target_curve = target_curve\n",
    "\n",
    "\n",
    "    def convert_1D_to_mech(self, x):\n",
    "        N = self.N\n",
    "\n",
    "        # Get target joints index\n",
    "        target_idx = x[\"target\"]\n",
    "\n",
    "        # Build connectivity matrix from its flattened constitutive variables\n",
    "        C = np.zeros((N,N))\n",
    "        x[\"C0_1\"] = 1\n",
    "\n",
    "        for i in range(N):\n",
    "            for j in range(i):\n",
    "                # C[i,j] = x[\"C\" + str(j) + \"_\" + str(i)]\n",
    "                C[j,i] = x[\"C\" + str(j) + \"_\" + str(i)]\n",
    "\n",
    "        edges = np.array(np.where(C==1)).T\n",
    "        \n",
    "        # Reshape flattened position matrix to its proper Nx2 shape\n",
    "        x0 = np.array([x[\"X0\" + str(i)] for i in range(2*N)]).reshape([N,2])\n",
    "\n",
    "        # Extract a list of Nodes that are fixed from boolean fixed_nodes vector\n",
    "        fixed_joints = np.where(np.array([x[\"fixed_nodes\" + str(i)] for i in range(N)]))[0].astype(int)\n",
    "\n",
    "        #We fix the motor and original ground node as 0 and 1 respectively in this implementation\n",
    "        motor=np.array([0,1])\n",
    "\n",
    "        return x0, edges, fixed_joints, motor, target_idx\n",
    "\n",
    "    def convert_mech_to_1D(self, x0, edges, fixed_joints, target_idx=None, **kwargs):\n",
    "        # This function assumes motor to be [0, 1] our random mechanism generator automatically does this\n",
    "        N = self.N\n",
    "\n",
    "        # Initialize dictionary to store 1D representation of mechanism\n",
    "        x = {}\n",
    "\n",
    "        # Store target node value\n",
    "        if target_idx is None:\n",
    "            target_idx = x0.shape[0]-1 # Assume last node is the target if not specified\n",
    "            \n",
    "        x[\"target\"] = target_idx\n",
    "\n",
    "        # Store connectivity matrix in its flattened form\n",
    "        C = np.zeros((N,N), dtype=bool)\n",
    "        C[edges[:,0], edges[:,1]] = 1\n",
    "        C[edges[:,1], edges[:,0]] = 1\n",
    "       \n",
    "        for i in range(N):\n",
    "            for j in range(i):\n",
    "                x[\"C\" + str(j) + \"_\" + str(i)] = C[i,j]\n",
    "\n",
    "        del x[\"C0_1\"]\n",
    "        \n",
    "        # Store position matrix in its flattened form\n",
    "        if x0.shape[0] != N:\n",
    "            x0 = np.pad(x0, ((0, N - x0.shape[0]), (0, 0)), 'constant', constant_values=0)\n",
    "            \n",
    "        for i in range(2*N):\n",
    "            x[\"X0\" + str(i)] = x0.flatten()[i]\n",
    "\n",
    "        # Store fixed nodes in boolean vector form\n",
    "        for i in range(N):\n",
    "            x[\"fixed_nodes\" + str(i)] = (i in fixed_joints) or (i>=N)\n",
    "\n",
    "        return x\n",
    "\n",
    "    def _evaluate(self, x, out, *args, **kwargs):\n",
    "        #Convert to mechanism representation\n",
    "        x0, edges, fixed_joints, motor, target_idx = self.convert_1D_to_mech(x)\n",
    "        \n",
    "        # Simulate\n",
    "        distance, material = PROBLEM_TOOLS(x0,\n",
    "                                edges,\n",
    "                                fixed_joints,\n",
    "                                motor,\n",
    "                                self.target_curve,\n",
    "                                target_idx=target_idx\n",
    "                            )\n",
    "\n",
    "        out[\"F\"] = np.array([distance, material])\n",
    "        out[\"G\"] = out[\"F\"] - np.array([0.75, 10.0])  # Constraints: distance <= 0.75, material <= 10.0\n"
   ]
  },
  {
   "cell_type": "markdown",
   "id": "4e85f4db",
   "metadata": {},
   "source": [
    "## 2) Generate Initial Mechanisms Population\n",
    "### 2.a Randomize Mechanisms (Advanced — Cells 10–11)"
   ]
  },
  {
   "cell_type": "code",
   "execution_count": null,
   "id": "876b4af3",
   "metadata": {},
   "outputs": [],
   "source": [
    "\n",
    "from LINKS.Optimization import MechanismRandomizer\n",
    "from LINKS.Visualization import MechanismVisualizer\n"
   ]
  },
  {
   "cell_type": "code",
   "execution_count": null,
   "id": "e1a9c15f",
   "metadata": {},
   "outputs": [],
   "source": [
    "\n",
    "randomizer = MechanismRandomizer(\n",
    "    min_size = 6, # smalllest mechanism to sample\n",
    "    max_size = 14, # largest mechanism to sample\n",
    "    device='cpu')\n",
    "\n",
    "visualizer = MechanismVisualizer()\n"
   ]
  },
  {
   "cell_type": "markdown",
   "id": "713a41ac",
   "metadata": {},
   "source": [
    "### 2.b Initial Pool Evaluation (Advanced — Cells 14–15)"
   ]
  },
  {
   "cell_type": "code",
   "execution_count": null,
   "id": "640cc674",
   "metadata": {},
   "outputs": [],
   "source": [
    "\n",
    "# We will prepare per-target populations; here we demonstrate for a single curve index.\n",
    "# This cell will be reused inside the GA loop below.\n",
    "curve_index_demo = 1  # as in the advanced example\n",
    "mechanisms = [randomizer(n=7) for _ in trange(100)]\n",
    "\n",
    "problem = mechanism_synthesis_optimization(target_curves[curve_index_demo], N=7)\n",
    "\n",
    "initial_population = [problem.convert_mech_to_1D(**mech) for mech in mechanisms]\n",
    "\n",
    "class sample_from_random(Sampling):\n",
    "        def _do(self, problem, n_samples, **kwargs):\n",
    "                return np.array([initial_population[i%len(initial_population)] for i in range(n_samples)])\n",
    "\n",
    "F = problem.evaluate(np.array(initial_population))[0]\n",
    "print(f'Best Distance Performance In random population: {F[:,0].min()}')\n",
    "print(f'Best Material Performance In random population: {F[:,1].min()}')\n"
   ]
  },
  {
   "cell_type": "markdown",
   "id": "cb35afb9",
   "metadata": {},
   "source": [
    "## 3) GA Refinement (Advanced — Cell 16)"
   ]
  },
  {
   "cell_type": "code",
   "execution_count": null,
   "id": "3bd7f7b5",
   "metadata": {},
   "outputs": [],
   "source": [
    "\n",
    "algorithm = NSGA2(pop_size=100,\n",
    "                  sampling=sample_from_random(),\n",
    "                  mating=MixedVariableMating(eliminate_duplicates=MixedVariableDuplicateElimination()),\n",
    "                  mutation=PolynomialMutation(prob=0.5),\n",
    "                  eliminate_duplicates=MixedVariableDuplicateElimination())\n",
    "\n",
    "results = minimize(problem,\n",
    "                algorithm,\n",
    "                ('n_gen', 100),\n",
    "                verbose=True,\n",
    "                save_history=True,\n",
    "                seed=123\n",
    "                )\n"
   ]
  },
  {
   "cell_type": "markdown",
   "id": "4516f203",
   "metadata": {},
   "source": [
    "### 3.a Save GA Results Per-Curve (consistent with Starter loading pattern)"
   ]
  },
  {
   "cell_type": "code",
   "execution_count": null,
   "id": "fc53528f",
   "metadata": {},
   "outputs": [],
   "source": [
    "\n",
    "# Convert GA results to mechanism dicts and save a numpy file for the demo curve index\n",
    "# Uses Advanced-provided convert_1D_to_mech (inverse is in class, here we reconstruct from decision vector via that method).\n",
    "ga_mechanisms = []\n",
    "if hasattr(results, 'pop') and results.pop is not None:\n",
    "    # Extract complete population\n",
    "    for individual in results.pop.get(\"X\"):\n",
    "        # individual is a dict of mixed variables compatible with convert_1D_to_mech\n",
    "        x0, edges, fixed_joints, motor, target_idx = problem.convert_1D_to_mech(individual)\n",
    "        ga_mechanisms.append({\n",
    "            'x0': x0,\n",
    "            'edges': edges,\n",
    "            'fixed_joints': fixed_joints,\n",
    "            'motor': motor,\n",
    "            'target_idx': target_idx\n",
    "        })\n",
    "\n",
    "np.save(f'ga_results_curve_{curve_index_demo}.npy', ga_mechanisms, allow_pickle=True)\n",
    "print(f\"Saved GA mechanisms for curve {curve_index_demo} -> ga_results_curve_{curve_index_demo}.npy\")\n"
   ]
  },
  {
   "cell_type": "markdown",
   "id": "27385aa2",
   "metadata": {},
   "source": [
    "## 4) Gradient Tools Demonstration (Starter — Cells 31–35)"
   ]
  },
  {
   "cell_type": "code",
   "execution_count": null,
   "id": "1d180641",
   "metadata": {},
   "outputs": [],
   "source": [
    "\n",
    "# Compile differentiable tools (Starter pattern)\n",
    "gradient_tools = DifferentiableTools(\n",
    "    device='cpu' # device to run the optimization on\n",
    ")\n",
    "gradient_tools.compile() # compile the functions for faster runs\n"
   ]
  },
  {
   "cell_type": "code",
   "execution_count": null,
   "id": "7545dc75",
   "metadata": {},
   "outputs": [],
   "source": [
    "\n",
    "# If we have at least one GA mechanism, demonstrate gradient evaluation on the first one for the demo target\n",
    "if len(ga_mechanisms) > 0:\n",
    "    mech0 = ga_mechanisms[0]\n",
    "    x0 = mech0['x0']\n",
    "    edges = mech0['edges']\n",
    "    fixed_joints = mech0['fixed_joints']\n",
    "    motor = mech0['motor']\n",
    "    target_curve = target_curves[curve_index_demo]\n",
    "\n",
    "    distance, material, distance_grad, material_grad = gradient_tools(x0,\n",
    "                                            edges,\n",
    "                                            fixed_joints,\n",
    "                                            motor,\n",
    "                                            target_curve,\n",
    "                                            target_idx=mech0.get('target_idx', None)\n",
    "                                        )\n",
    "\n",
    "    print(f\"Distance to target curve {curve_index_demo}: {distance:.4f}\")\n",
    "    print(f\"Material used: {material:.4f}\")\n",
    "    print(f\"Distance Gradient shape(s): {[g.shape for g in distance_grad]}\")\n",
    "    print(f\"Material Gradient shape(s): {[g.shape for g in material_grad]}\")\n"
   ]
  },
  {
   "cell_type": "markdown",
   "id": "d11c7e70",
   "metadata": {},
   "source": [
    "## 5) Evaluation & Visualization Utilities (Starter — Sections)"
   ]
  },
  {
   "cell_type": "code",
   "execution_count": null,
   "id": "a6981953",
   "metadata": {},
   "outputs": [],
   "source": [
    "\n",
    "from LINKS.Kinematics import MechanismSolver\n",
    "from LINKS.Geometry import CurveEngine\n"
   ]
  },
  {
   "cell_type": "code",
   "execution_count": null,
   "id": "0280986d",
   "metadata": {},
   "outputs": [],
   "source": [
    "\n",
    "# Example: solve and visualize the first GA mechanism for the demo curve\n",
    "if len(ga_mechanisms) > 0:\n",
    "    mech0 = ga_mechanisms[0]\n",
    "    x0 = mech0['x0']\n",
    "    edges = mech0['edges']\n",
    "    fixed_joints = mech0['fixed_joints']\n",
    "    motor = mech0['motor']\n",
    "\n",
    "    solver = MechanismSolver(device='cpu')\n",
    "    solution = solver(x0, edges, fixed_joints, motor)\n",
    "    print(\"The shape of the solution is:\", solution.shape)  # (num_joints, timesteps, 2)\n",
    "\n",
    "    # Plot the trajectory of the (last) joint as in Starter\n",
    "    target_joint_idx = solution.shape[0]-1\n",
    "    traced_curve = solution[target_joint_idx]\n",
    "\n",
    "    plt.figure(figsize=(5,5))\n",
    "    plt.plot(traced_curve[:,0], traced_curve[:,1])\n",
    "    plt.axis('equal')\n",
    "    plt.title(f\"Joint {target_joint_idx}'s Traced Curve\")\n",
    "    plt.axis('off')\n",
    "    plt.show()\n",
    "\n",
    "    # Compare to the demo target curve using CurveEngine (Starter pattern)\n",
    "    curve_processor = CurveEngine(\n",
    "        normalize_scale=False,\n",
    "        device='cpu'\n",
    "    )\n",
    "    curve_processor.visualize_alignment(traced_curve, target_curves[curve_index_demo])\n",
    "    curve_processor.visualize_comparison(traced_curve, target_curves[curve_index_demo])\n"
   ]
  },
  {
   "cell_type": "markdown",
   "id": "fa922db1",
   "metadata": {},
   "source": [
    "## 6) Full Run Over All 6 Target Curves (Advanced — Cells 14–16 pattern repeated)"
   ]
  },
  {
   "cell_type": "code",
   "execution_count": null,
   "id": "cdfd9c23",
   "metadata": {},
   "outputs": [],
   "source": [
    "\n",
    "all_curve_results = {}\n",
    "\n",
    "for curve_index in range(6):\n",
    "    print(f\"=== Running GA for Target Curve {curve_index} ===\")\n",
    "    mechanisms = [randomizer(n=7) for _ in trange(100)]\n",
    "    problem = mechanism_synthesis_optimization(target_curves[curve_index], N=7)\n",
    "    initial_population = [problem.convert_mech_to_1D(**mech) for mech in mechanisms]\n",
    "\n",
    "    class sample_from_random(Sampling):\n",
    "            def _do(self, problem, n_samples, **kwargs):\n",
    "                    return np.array([initial_population[i%len(initial_population)] for i in range(n_samples)])\n",
    "\n",
    "    # Optional quick evaluation print, as in Advanced\n",
    "    F = problem.evaluate(np.array(initial_population))[0]\n",
    "    print(f'Initial pool — best distance: {F[:,0].min():.6f} | best material: {F[:,1].min():.6f}')\n",
    "\n",
    "    algorithm = NSGA2(pop_size=100,\n",
    "                      sampling=sample_from_random(),\n",
    "                      mating=MixedVariableMating(eliminate_duplicates=MixedVariableDuplicateElimination()),\n",
    "                      mutation=PolynomialMutation(prob=0.5),\n",
    "                      eliminate_duplicates=MixedVariableDuplicateElimination())\n",
    "\n",
    "    results = minimize(problem,\n",
    "                    algorithm,\n",
    "                    ('n_gen', 100),\n",
    "                    verbose=True,\n",
    "                    save_history=True,\n",
    "                    seed=123\n",
    "                    )\n",
    "\n",
    "    # Convert population to mechanism dicts and save\n",
    "    curve_mechanisms = []\n",
    "    if hasattr(results, 'pop') and results.pop is not None:\n",
    "        for individual in results.pop.get(\"X\"):\n",
    "            x0, edges, fixed_joints, motor, target_idx = problem.convert_1D_to_mech(individual)\n",
    "            curve_mechanisms.append({\n",
    "                'x0': x0,\n",
    "                'edges': edges,\n",
    "                'fixed_joints': fixed_joints,\n",
    "                'motor': motor,\n",
    "                'target_idx': target_idx\n",
    "            })\n",
    "\n",
    "    all_curve_results[curve_index] = curve_mechanisms\n",
    "    np.save(f'ga_results_curve_{curve_index}.npy', curve_mechanisms, allow_pickle=True)\n",
    "    print(f\"Saved GA mechanisms for curve {curve_index} -> ga_results_curve_{curve_index}.npy\")\n"
   ]
  },
  {
   "cell_type": "markdown",
   "id": "182f6c16",
   "metadata": {},
   "source": [
    "## 7) (Optional) Starter Mechanism Baseline (Starter — Cells 29–35)"
   ]
  },
  {
   "cell_type": "code",
   "execution_count": null,
   "id": "4b48b6d4",
   "metadata": {},
   "outputs": [],
   "source": [
    "\n",
    "from LINKS.Visualization import MechanismVisualizer  # already imported above; kept for parity\n",
    "\n",
    "starter_mech = np.load('starter_mechanism.npy',allow_pickle=True).item() #Load mechanism\n",
    "\n",
    "x0 = starter_mech['x0']\n",
    "edges = starter_mech['edges']\n",
    "fixed_joints = starter_mech['fixed_joints']\n",
    "motor = starter_mech['motor']\n",
    "\n",
    "plt.figure(figsize=(8,8))\n",
    "visualizer = MechanismVisualizer()\n",
    "visualizer(x0, edges, fixed_joints, motor, ax=plt.gca())\n"
   ]
  },
  {
   "cell_type": "code",
   "execution_count": null,
   "id": "6d7daa75",
   "metadata": {},
   "outputs": [],
   "source": [
    "\n",
    "optimization_tools = Tools(\n",
    "    device='cpu' # device to run the optimization on\n",
    ")\n",
    "optimization_tools.compile() # compile the functions for faster runs\n",
    "\n",
    "gradient_tools = DifferentiableTools(\n",
    "    device='cpu' # device to run the optimization on\n",
    ")\n",
    "gradient_tools.compile() # compile the functions for faster runs\n"
   ]
  },
  {
   "cell_type": "code",
   "execution_count": null,
   "id": "fef070e5",
   "metadata": {},
   "outputs": [],
   "source": [
    "\n",
    "# Evaluate baseline on one target curve (index 0 as in Starter)\n",
    "distance, material = optimization_tools(x0,\n",
    "                                        edges,\n",
    "                                        fixed_joints,\n",
    "                                        motor,\n",
    "                                        target_curves[0],\n",
    "                                        target_idx=None\n",
    "                                    ) \n",
    "\n",
    "print(f\"Distance to target curve 0: {distance:.4f}\")\n",
    "print(f\"Material used: {material:.4f}\")\n"
   ]
  },
  {
   "cell_type": "code",
   "execution_count": null,
   "id": "ce5e144e",
   "metadata": {},
   "outputs": [],
   "source": [
    "\n",
    "distance, material, distance_grad, material_grad = gradient_tools(x0,\n",
    "                                        edges,\n",
    "                                        fixed_joints,\n",
    "                                        motor,\n",
    "                                        target_curves[0],\n",
    "                                        target_idx=None\n",
    "                                    )\n",
    "\n",
    "print(f\"Distance to target curve 0: {distance:.4f}\")\n",
    "print(f\"Material used: {material:.4f}\")\n",
    "print(f\"Distance Gradient (sample length): {len(distance_grad)}\")\n",
    "print(f\"Material Gradient (sample length): {len(material_grad)}\")\n"
   ]
  },
  {
   "cell_type": "markdown",
   "id": "9fb8f926",
   "metadata": {},
   "source": [
    "## 8) Save Aggregated Results"
   ]
  },
  {
   "cell_type": "code",
   "execution_count": null,
   "id": "ededb009",
   "metadata": {},
   "outputs": [],
   "source": [
    "\n",
    "# Save all-curve GA results bundle as a single file too\n",
    "np.save('ga_results_all_curves.npy', all_curve_results, allow_pickle=True)\n",
    "print(\"Saved: ga_results_all_curves.npy\")\n"
   ]
  }
 ],
 "metadata": {},
 "nbformat": 4,
 "nbformat_minor": 5
}
